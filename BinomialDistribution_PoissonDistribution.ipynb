{
  "nbformat": 4,
  "nbformat_minor": 0,
  "metadata": {
    "colab": {
      "name": "BinomialDistribution-PoissonDistribution.ipynb",
      "provenance": [],
      "collapsed_sections": [],
      "authorship_tag": "ABX9TyN+eAUHTgn4jbGrM+SCEm6z",
      "include_colab_link": true
    },
    "kernelspec": {
      "name": "python3",
      "display_name": "Python 3"
    }
  },
  "cells": [
    {
      "cell_type": "markdown",
      "metadata": {
        "id": "view-in-github",
        "colab_type": "text"
      },
      "source": [
        "<a href=\"https://colab.research.google.com/github/ErenGerboga/Binomial_Distribution-Poisson_Distribution/blob/master/BinomialDistribution_PoissonDistribution.ipynb\" target=\"_parent\"><img src=\"https://colab.research.google.com/assets/colab-badge.svg\" alt=\"Open In Colab\"/></a>"
      ]
    },
    {
      "cell_type": "markdown",
      "metadata": {
        "id": "WVwbGIobyqRr",
        "colab_type": "text"
      },
      "source": [
        "* # **BINOMIAL DISTRIBUTION EXAMPLES**\n",
        "\n",
        "##PROBLEM \n",
        "**TR**\n",
        "\n",
        "Klinikte yapılan çalışmalara göre bir ilacın, belirli bir hastalığı \n",
        "iyileştirmek için %13 başarı oranı olduğu biliniyor. Bu hastalığa yakalanan 30 kişi olduğuna göre\n",
        "En az iki kişinin iyileşme olasılığı nedir?\n",
        "\n",
        "\n",
        "**ENG**\n",
        "\n",
        "In a clinical trials a certain  drug has a %13 success rate of curing known disease. \n",
        "If 30 people are known  to have the disease. \n",
        "What is the probablity that at least 2 are cured?\n",
        "\n",
        "## ÇÖZÜM \n",
        "## SOLUTION\n",
        "\n",
        "\n",
        "* Train set= 30 people \n",
        "* İlacın uygulanacığı kişi sayısı = 30\n",
        "\n",
        "* p= %13 = 0,13 success rate\n",
        "* p= %13 = 0,13 başarı oranı\n",
        "* q= %87 = 0,87 unsuccess rate\n",
        "* q= %87 = 0,87 başarısızlık oranı\n",
        "\n",
        "\n",
        "En az iki kişi iyileşme ihtimali sorulduğundan;\n",
        "Toplam olasılıktan 0 ve 1 kişinin iyileşme ihtimali çıkartılırsa bulunabilir.\n",
        "\n",
        "It can be solved if 0 and 1 person is removed from total probablity(1) \n",
        "\n",
        "## Formulasyon:\n",
        "## Formulation:    \n",
        "    * P(X>2) = 1 - P(X=0)+P(X=1)\n",
        "    *  1 - ( X~B(30,(0,13)=C(30,0)*(p^0)*(1-p)^30) + ( X~B(30,(0,13))=C(30,1)*(p^1)*(1-p)^29))\n"
      ]
    },
    {
      "cell_type": "code",
      "metadata": {
        "id": "u_fzq0ce0NnJ",
        "colab_type": "code",
        "colab": {
          "base_uri": "https://localhost:8080/",
          "height": 90
        },
        "outputId": "ae41d4e6-2244-4c29-9862-a2e8d516c7eb"
      },
      "source": [
        "import numpy as np\n",
        "import matplotlib.pyplot as plt\n",
        "from pylab import*\n",
        "import math\n",
        "\n",
        "\n",
        "\n",
        "#Faktoriyel\n",
        "#Factorial\n",
        "def factorial(n):\n",
        "    return 1 if (n==1 or n==0) else n * factorial(n - 1); \n",
        "\n",
        "            \n",
        "            \n",
        "#Kombinasyon\n",
        "#Combination    \n",
        "def Combination(n,m):\n",
        "    return  math.factorial(n)/(math.factorial(n-m)* math.factorial(m));\n",
        "\n",
        "#Binom Dağılım Fonksiyonu\n",
        "#Binomial Distribution Function\n",
        "\n",
        "def BinomialDistribution(X,Y,p):\n",
        "   \n",
        "    #Formula\n",
        "    Bp= Combination(X,Y)*pow(p,Y)*pow((1-p),(X-Y))\n",
        "    Mean= X*p\n",
        "    Varience= X*p*(1-p)\n",
        "    \n",
        "    return Bp,Mean,Varience\n",
        "\n",
        "print(\"BINOMIAL DISTRIBUTION EXAMPLE\")\n",
        "(P1,mean,varience)=BinomialDistribution(30,1,0.13)\n",
        "(P2,mean,varience)=BinomialDistribution(30,0,0.13)\n",
        "\n",
        "Result= 1-(P1+P2)\n",
        "\n",
        "print(\"Result Probablity=  \",Result)\n",
        "print(\"Mean= \",mean)\n",
        "print(\"Varience= \",varience)"
      ],
      "execution_count": 2,
      "outputs": [
        {
          "output_type": "stream",
          "text": [
            "BINOMIAL DISTRIBUTION EXAMPLE\n",
            "Result Probablity=   0.9159424543788396\n",
            "Mean=  3.9000000000000004\n",
            "Varience=  3.3930000000000002\n"
          ],
          "name": "stdout"
        }
      ]
    },
    {
      "cell_type": "markdown",
      "metadata": {
        "id": "IoD5dTAZ0evw",
        "colab_type": "text"
      },
      "source": [
        "* # **POISSON DISTRIBUTION EXAMPLES**\n",
        "\n",
        "##PROBLEM \n",
        "**TR**\n",
        "\n",
        "Bir daktilo sayfa başına ortalama 2 kez rastele hata yaptığı biliniyor.\n",
        "A) Daktilonun hiç hata yapmama olasılığı nedir? \n",
        "B) Daktilonun 3 ten fazla hata yapma olasılığı nedir?\n",
        "\n",
        "\n",
        "**ENG**\n",
        "\n",
        "A typist makes random errors at a mean rate of 2 per page.disease. \n",
        "**A)**What is the probablity of no errors?\n",
        "**B)**What is the probablity of more than 3 errors?\n",
        "\n",
        "## ÇÖZÜM \n",
        "## SOLUTION\n",
        "\n",
        "\n",
        "* Lambda = 2  random errors mean per a page\n",
        "\n",
        "#Formulasyon:\n",
        "#Formulation:    \n",
        "    **P(X>r) =   X~Po = (e^-(Lambda) * Lambda^r  )/r!**\n",
        "\n",
        "#A) P(X=0) = (e^-2 * 2^0 )/0! \n",
        "\n",
        "\n",
        "* 3 ten fazla hata sorulduğu için sonsuz hataya kadar gidebilir.\n",
        "* Toplam olasılıktan 0,1 ve 2 hata yapma olasılıkları çıkartılırsa \n",
        "* 3 ten fazla hata yapma olasılığı bulunabilir.\n",
        "\n",
        "#B)= P(X>3) = 1- [ P(X=0) + P(X=1) + P(X=2) + P(X=3) ]\n",
        "#-------------------------Po0-----------Po1---------Po2---------Po3\n"
      ]
    },
    {
      "cell_type": "code",
      "metadata": {
        "id": "c2XTAfvL2LfP",
        "colab_type": "code",
        "colab": {
          "base_uri": "https://localhost:8080/",
          "height": 54
        },
        "outputId": "6ecf3554-5c83-477c-c34d-0000ab738e1c"
      },
      "source": [
        "import numpy as np\n",
        "import matplotlib.pyplot as plt\n",
        "from pylab import*\n",
        "import math\n",
        "\n",
        "\n",
        "\n",
        "#Faktoriyel\n",
        "#Factorial\n",
        "def factorial(n):\n",
        "    return 1 if (n==1 or n==0) else n * factorial(n - 1); \n",
        "\n",
        "            \n",
        "            \n",
        "#Kombinasyon\n",
        "#Combination    \n",
        "def Combination(n,m):\n",
        "    return  math.factorial(n)/(math.factorial(n-m)* math.factorial(m));\n",
        "\n",
        "#Binom Dağılım Fonksiyonu\n",
        "#Binomial Distribution Function\n",
        "\n",
        "\n",
        "\n",
        "def PoissonDistribution(Lambda,r):\n",
        "    #Formula\n",
        "    Pp= (math.exp(-(Lambda))*pow(Lambda,r))/factorial(r)\n",
        "    \n",
        "    return Pp\n",
        "\n",
        "\n",
        "print(\"POISSON DISTRIBUTION EXAMPLE\")\n",
        "\n",
        "Po0= PoissonDistribution(2,0)\n",
        "Po1= PoissonDistribution(2,1)\n",
        "Po2= PoissonDistribution(2,2)\n",
        "Po3= PoissonDistribution(2,3)\n",
        "\n",
        "\n",
        "Pop= 1-(Po0+Po1+Po2+Po3)\n",
        "\n",
        "print(\"Result Probablity=  \",Pop)  "
      ],
      "execution_count": 4,
      "outputs": [
        {
          "output_type": "stream",
          "text": [
            "POISSON DISTRIBUTION EXAMPLE\n",
            "Result Probablity=   0.14287653950145285\n"
          ],
          "name": "stdout"
        }
      ]
    }
  ]
}